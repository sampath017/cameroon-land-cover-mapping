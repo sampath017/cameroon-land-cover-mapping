{
 "cells": [
  {
   "cell_type": "code",
   "execution_count": 1,
   "metadata": {},
   "outputs": [],
   "source": [
    "import json\n",
    "import itertools\n",
    "import zipfile\n",
    "from datetime import date\n",
    "from pathlib import Path\n",
    "\n",
    "import cv2\n",
    "import rasterio\n",
    "import utm\n",
    "import matplotlib.pyplot as plt\n",
    "import numpy as np\n",
    "import pandas as pd\n",
    "from sentinelsat import SentinelAPI, read_geojson, geojson_to_wkt\n",
    "from sentinelhub import pixel_to_utm, utm_to_pixel"
   ]
  },
  {
   "attachments": {},
   "cell_type": "markdown",
   "metadata": {},
   "source": [
    "## Collect the satellite imagery data"
   ]
  },
  {
   "cell_type": "code",
   "execution_count": 2,
   "metadata": {},
   "outputs": [],
   "source": [
    "# Using pathlib for handling paths which is convientent way. And set path to ../data folder from current context.\n",
    "data = Path(\"../data/\")"
   ]
  },
  {
   "cell_type": "code",
   "execution_count": 20,
   "metadata": {},
   "outputs": [],
   "source": [
    "# Set your user and password.\n",
    "with open(\"../secrets/sentinel_api_credentials.json\", \"r\") as file:\n",
    "    credentials = json.load(file)\n",
    "\n",
    "api = SentinelAPI(credentials[\"username\"], credentials[\"password\"], \"https://scihub.copernicus.eu/dhus\")\n",
    "\n",
    "shape = geojson_to_wkt(read_geojson(data / \"cameroon.geojson\"))\n",
    "\n",
    "# Try to make the data be between 2 months because image may not be captured by satellite for small intervals.\n",
    "images = api.query(\n",
    "    shape,\n",
    "    date=(date(2023, 1, 1), date(2023, 3, 1)),\n",
    "    platformname=\"Sentinel-2\",\n",
    "    processinglevel = \"Level-2A\",\n",
    "    cloudcoverpercentage=(0, 30)\n",
    ")\n",
    "\n",
    "images_df = api.to_dataframe(images)"
   ]
  },
  {
   "cell_type": "code",
   "execution_count": 21,
   "metadata": {},
   "outputs": [
    {
     "name": "stdout",
     "output_type": "stream",
     "text": [
      "<class 'pandas.core.frame.DataFrame'>\n",
      "Index: 34 entries, 386009ee-2a37-4b58-9f55-03f0d5cea946 to 39f7c5d8-2df1-4b4d-ae05-63641f364fa2\n",
      "Data columns (total 42 columns):\n",
      " #   Column                       Non-Null Count  Dtype         \n",
      "---  ------                       --------------  -----         \n",
      " 0   title                        34 non-null     object        \n",
      " 1   link                         34 non-null     object        \n",
      " 2   link_alternative             34 non-null     object        \n",
      " 3   link_icon                    34 non-null     object        \n",
      " 4   summary                      34 non-null     object        \n",
      " 5   ondemand                     34 non-null     object        \n",
      " 6   generationdate               34 non-null     datetime64[ns]\n",
      " 7   beginposition                34 non-null     datetime64[ns]\n",
      " 8   endposition                  34 non-null     datetime64[ns]\n",
      " 9   ingestiondate                34 non-null     datetime64[ns]\n",
      " 10  orbitnumber                  34 non-null     int64         \n",
      " 11  relativeorbitnumber          34 non-null     int64         \n",
      " 12  illuminationazimuthangle     34 non-null     float64       \n",
      " 13  illuminationzenithangle      34 non-null     float64       \n",
      " 14  vegetationpercentage         34 non-null     float64       \n",
      " 15  notvegetatedpercentage       34 non-null     float64       \n",
      " 16  waterpercentage              34 non-null     float64       \n",
      " 17  unclassifiedpercentage       34 non-null     float64       \n",
      " 18  mediumprobacloudspercentage  34 non-null     float64       \n",
      " 19  highprobacloudspercentage    34 non-null     float64       \n",
      " 20  snowicepercentage            34 non-null     float64       \n",
      " 21  cloudcoverpercentage         34 non-null     float64       \n",
      " 22  level1cpdiidentifier         34 non-null     object        \n",
      " 23  gmlfootprint                 34 non-null     object        \n",
      " 24  footprint                    34 non-null     object        \n",
      " 25  format                       34 non-null     object        \n",
      " 26  processingbaseline           34 non-null     object        \n",
      " 27  platformname                 34 non-null     object        \n",
      " 28  filename                     34 non-null     object        \n",
      " 29  instrumentname               34 non-null     object        \n",
      " 30  instrumentshortname          34 non-null     object        \n",
      " 31  size                         34 non-null     object        \n",
      " 32  s2datatakeid                 34 non-null     object        \n",
      " 33  producttype                  34 non-null     object        \n",
      " 34  platformidentifier           34 non-null     object        \n",
      " 35  orbitdirection               34 non-null     object        \n",
      " 36  platformserialidentifier     34 non-null     object        \n",
      " 37  processinglevel              34 non-null     object        \n",
      " 38  datastripidentifier          34 non-null     object        \n",
      " 39  granuleidentifier            34 non-null     object        \n",
      " 40  identifier                   34 non-null     object        \n",
      " 41  uuid                         34 non-null     object        \n",
      "dtypes: datetime64[ns](4), float64(10), int64(2), object(26)\n",
      "memory usage: 11.4+ KB\n"
     ]
    }
   ],
   "source": [
    "images_df.info()"
   ]
  },
  {
   "cell_type": "code",
   "execution_count": 22,
   "metadata": {},
   "outputs": [
    {
     "data": {
      "text/html": [
       "<div>\n",
       "<style scoped>\n",
       "    .dataframe tbody tr th:only-of-type {\n",
       "        vertical-align: middle;\n",
       "    }\n",
       "\n",
       "    .dataframe tbody tr th {\n",
       "        vertical-align: top;\n",
       "    }\n",
       "\n",
       "    .dataframe thead th {\n",
       "        text-align: right;\n",
       "    }\n",
       "</style>\n",
       "<table border=\"1\" class=\"dataframe\">\n",
       "  <thead>\n",
       "    <tr style=\"text-align: right;\">\n",
       "      <th></th>\n",
       "      <th>title</th>\n",
       "      <th>link</th>\n",
       "      <th>link_alternative</th>\n",
       "      <th>link_icon</th>\n",
       "      <th>summary</th>\n",
       "      <th>ondemand</th>\n",
       "      <th>generationdate</th>\n",
       "      <th>beginposition</th>\n",
       "      <th>endposition</th>\n",
       "      <th>ingestiondate</th>\n",
       "      <th>...</th>\n",
       "      <th>s2datatakeid</th>\n",
       "      <th>producttype</th>\n",
       "      <th>platformidentifier</th>\n",
       "      <th>orbitdirection</th>\n",
       "      <th>platformserialidentifier</th>\n",
       "      <th>processinglevel</th>\n",
       "      <th>datastripidentifier</th>\n",
       "      <th>granuleidentifier</th>\n",
       "      <th>identifier</th>\n",
       "      <th>uuid</th>\n",
       "    </tr>\n",
       "  </thead>\n",
       "  <tbody>\n",
       "    <tr>\n",
       "      <th>386009ee-2a37-4b58-9f55-03f0d5cea946</th>\n",
       "      <td>S2A_MSIL2A_20230220T093031_N0509_R136_T32NNL_2...</td>\n",
       "      <td>https://scihub.copernicus.eu/dhus/odata/v1/Pro...</td>\n",
       "      <td>https://scihub.copernicus.eu/dhus/odata/v1/Pro...</td>\n",
       "      <td>https://scihub.copernicus.eu/dhus/odata/v1/Pro...</td>\n",
       "      <td>Date: 2023-02-20T09:30:31.025Z, Instrument: MS...</td>\n",
       "      <td>false</td>\n",
       "      <td>2023-02-20 14:34:08</td>\n",
       "      <td>2023-02-20 09:30:31.025</td>\n",
       "      <td>2023-02-20 09:30:31.025</td>\n",
       "      <td>2023-02-20 16:09:35.637</td>\n",
       "      <td>...</td>\n",
       "      <td>GS2A_20230220T093031_040030_N05.09</td>\n",
       "      <td>S2MSI2A</td>\n",
       "      <td>2015-028A</td>\n",
       "      <td>DESCENDING</td>\n",
       "      <td>Sentinel-2A</td>\n",
       "      <td>Level-2A</td>\n",
       "      <td>S2A_OPER_MSI_L2A_DS_2APS_20230220T143408_S2023...</td>\n",
       "      <td>S2A_OPER_MSI_L2A_TL_2APS_20230220T143408_A0400...</td>\n",
       "      <td>S2A_MSIL2A_20230220T093031_N0509_R136_T32NNL_2...</td>\n",
       "      <td>386009ee-2a37-4b58-9f55-03f0d5cea946</td>\n",
       "    </tr>\n",
       "    <tr>\n",
       "      <th>e3eea048-79fd-4f9d-8c3c-450998853276</th>\n",
       "      <td>S2A_MSIL2A_20230220T093031_N0509_R136_T32NNK_2...</td>\n",
       "      <td>https://scihub.copernicus.eu/dhus/odata/v1/Pro...</td>\n",
       "      <td>https://scihub.copernicus.eu/dhus/odata/v1/Pro...</td>\n",
       "      <td>https://scihub.copernicus.eu/dhus/odata/v1/Pro...</td>\n",
       "      <td>Date: 2023-02-20T09:30:31.025Z, Instrument: MS...</td>\n",
       "      <td>false</td>\n",
       "      <td>2023-02-20 14:34:08</td>\n",
       "      <td>2023-02-20 09:30:31.025</td>\n",
       "      <td>2023-02-20 09:30:31.025</td>\n",
       "      <td>2023-02-20 16:09:24.695</td>\n",
       "      <td>...</td>\n",
       "      <td>GS2A_20230220T093031_040030_N05.09</td>\n",
       "      <td>S2MSI2A</td>\n",
       "      <td>2015-028A</td>\n",
       "      <td>DESCENDING</td>\n",
       "      <td>Sentinel-2A</td>\n",
       "      <td>Level-2A</td>\n",
       "      <td>S2A_OPER_MSI_L2A_DS_2APS_20230220T143408_S2023...</td>\n",
       "      <td>S2A_OPER_MSI_L2A_TL_2APS_20230220T143408_A0400...</td>\n",
       "      <td>S2A_MSIL2A_20230220T093031_N0509_R136_T32NNK_2...</td>\n",
       "      <td>e3eea048-79fd-4f9d-8c3c-450998853276</td>\n",
       "    </tr>\n",
       "    <tr>\n",
       "      <th>8daddb67-7ad8-4838-a460-dab8ab3a4dda</th>\n",
       "      <td>S2A_MSIL2A_20230220T093031_N0509_R136_T32NPL_2...</td>\n",
       "      <td>https://scihub.copernicus.eu/dhus/odata/v1/Pro...</td>\n",
       "      <td>https://scihub.copernicus.eu/dhus/odata/v1/Pro...</td>\n",
       "      <td>https://scihub.copernicus.eu/dhus/odata/v1/Pro...</td>\n",
       "      <td>Date: 2023-02-20T09:30:31.025Z, Instrument: MS...</td>\n",
       "      <td>false</td>\n",
       "      <td>2023-02-20 14:34:08</td>\n",
       "      <td>2023-02-20 09:30:31.025</td>\n",
       "      <td>2023-02-20 09:30:31.025</td>\n",
       "      <td>2023-02-20 16:08:32.950</td>\n",
       "      <td>...</td>\n",
       "      <td>GS2A_20230220T093031_040030_N05.09</td>\n",
       "      <td>S2MSI2A</td>\n",
       "      <td>2015-028A</td>\n",
       "      <td>DESCENDING</td>\n",
       "      <td>Sentinel-2A</td>\n",
       "      <td>Level-2A</td>\n",
       "      <td>S2A_OPER_MSI_L2A_DS_2APS_20230220T143408_S2023...</td>\n",
       "      <td>S2A_OPER_MSI_L2A_TL_2APS_20230220T143408_A0400...</td>\n",
       "      <td>S2A_MSIL2A_20230220T093031_N0509_R136_T32NPL_2...</td>\n",
       "      <td>8daddb67-7ad8-4838-a460-dab8ab3a4dda</td>\n",
       "    </tr>\n",
       "    <tr>\n",
       "      <th>2153894d-6887-45bf-a30c-4edeed334f5e</th>\n",
       "      <td>S2A_MSIL2A_20230220T093031_N0509_R136_T32NQL_2...</td>\n",
       "      <td>https://scihub.copernicus.eu/dhus/odata/v1/Pro...</td>\n",
       "      <td>https://scihub.copernicus.eu/dhus/odata/v1/Pro...</td>\n",
       "      <td>https://scihub.copernicus.eu/dhus/odata/v1/Pro...</td>\n",
       "      <td>Date: 2023-02-20T09:30:31.025Z, Instrument: MS...</td>\n",
       "      <td>false</td>\n",
       "      <td>2023-02-20 14:34:08</td>\n",
       "      <td>2023-02-20 09:30:31.025</td>\n",
       "      <td>2023-02-20 09:30:31.025</td>\n",
       "      <td>2023-02-20 16:06:24.627</td>\n",
       "      <td>...</td>\n",
       "      <td>GS2A_20230220T093031_040030_N05.09</td>\n",
       "      <td>S2MSI2A</td>\n",
       "      <td>2015-028A</td>\n",
       "      <td>DESCENDING</td>\n",
       "      <td>Sentinel-2A</td>\n",
       "      <td>Level-2A</td>\n",
       "      <td>S2A_OPER_MSI_L2A_DS_2APS_20230220T143408_S2023...</td>\n",
       "      <td>S2A_OPER_MSI_L2A_TL_2APS_20230220T143408_A0400...</td>\n",
       "      <td>S2A_MSIL2A_20230220T093031_N0509_R136_T32NQL_2...</td>\n",
       "      <td>2153894d-6887-45bf-a30c-4edeed334f5e</td>\n",
       "    </tr>\n",
       "    <tr>\n",
       "      <th>5dca32b8-24de-4a33-8bd8-f1acf34af6ca</th>\n",
       "      <td>S2A_MSIL2A_20230220T093031_N0509_R136_T32NRL_2...</td>\n",
       "      <td>https://scihub.copernicus.eu/dhus/odata/v1/Pro...</td>\n",
       "      <td>https://scihub.copernicus.eu/dhus/odata/v1/Pro...</td>\n",
       "      <td>https://scihub.copernicus.eu/dhus/odata/v1/Pro...</td>\n",
       "      <td>Date: 2023-02-20T09:30:31.025Z, Instrument: MS...</td>\n",
       "      <td>false</td>\n",
       "      <td>2023-02-20 14:34:08</td>\n",
       "      <td>2023-02-20 09:30:31.025</td>\n",
       "      <td>2023-02-20 09:30:31.025</td>\n",
       "      <td>2023-02-20 16:02:50.587</td>\n",
       "      <td>...</td>\n",
       "      <td>GS2A_20230220T093031_040030_N05.09</td>\n",
       "      <td>S2MSI2A</td>\n",
       "      <td>2015-028A</td>\n",
       "      <td>DESCENDING</td>\n",
       "      <td>Sentinel-2A</td>\n",
       "      <td>Level-2A</td>\n",
       "      <td>S2A_OPER_MSI_L2A_DS_2APS_20230220T143408_S2023...</td>\n",
       "      <td>S2A_OPER_MSI_L2A_TL_2APS_20230220T143408_A0400...</td>\n",
       "      <td>S2A_MSIL2A_20230220T093031_N0509_R136_T32NRL_2...</td>\n",
       "      <td>5dca32b8-24de-4a33-8bd8-f1acf34af6ca</td>\n",
       "    </tr>\n",
       "  </tbody>\n",
       "</table>\n",
       "<p>5 rows × 42 columns</p>\n",
       "</div>"
      ],
      "text/plain": [
       "                                                                                  title  \\\n",
       "386009ee-2a37-4b58-9f55-03f0d5cea946  S2A_MSIL2A_20230220T093031_N0509_R136_T32NNL_2...   \n",
       "e3eea048-79fd-4f9d-8c3c-450998853276  S2A_MSIL2A_20230220T093031_N0509_R136_T32NNK_2...   \n",
       "8daddb67-7ad8-4838-a460-dab8ab3a4dda  S2A_MSIL2A_20230220T093031_N0509_R136_T32NPL_2...   \n",
       "2153894d-6887-45bf-a30c-4edeed334f5e  S2A_MSIL2A_20230220T093031_N0509_R136_T32NQL_2...   \n",
       "5dca32b8-24de-4a33-8bd8-f1acf34af6ca  S2A_MSIL2A_20230220T093031_N0509_R136_T32NRL_2...   \n",
       "\n",
       "                                                                                   link  \\\n",
       "386009ee-2a37-4b58-9f55-03f0d5cea946  https://scihub.copernicus.eu/dhus/odata/v1/Pro...   \n",
       "e3eea048-79fd-4f9d-8c3c-450998853276  https://scihub.copernicus.eu/dhus/odata/v1/Pro...   \n",
       "8daddb67-7ad8-4838-a460-dab8ab3a4dda  https://scihub.copernicus.eu/dhus/odata/v1/Pro...   \n",
       "2153894d-6887-45bf-a30c-4edeed334f5e  https://scihub.copernicus.eu/dhus/odata/v1/Pro...   \n",
       "5dca32b8-24de-4a33-8bd8-f1acf34af6ca  https://scihub.copernicus.eu/dhus/odata/v1/Pro...   \n",
       "\n",
       "                                                                       link_alternative  \\\n",
       "386009ee-2a37-4b58-9f55-03f0d5cea946  https://scihub.copernicus.eu/dhus/odata/v1/Pro...   \n",
       "e3eea048-79fd-4f9d-8c3c-450998853276  https://scihub.copernicus.eu/dhus/odata/v1/Pro...   \n",
       "8daddb67-7ad8-4838-a460-dab8ab3a4dda  https://scihub.copernicus.eu/dhus/odata/v1/Pro...   \n",
       "2153894d-6887-45bf-a30c-4edeed334f5e  https://scihub.copernicus.eu/dhus/odata/v1/Pro...   \n",
       "5dca32b8-24de-4a33-8bd8-f1acf34af6ca  https://scihub.copernicus.eu/dhus/odata/v1/Pro...   \n",
       "\n",
       "                                                                              link_icon  \\\n",
       "386009ee-2a37-4b58-9f55-03f0d5cea946  https://scihub.copernicus.eu/dhus/odata/v1/Pro...   \n",
       "e3eea048-79fd-4f9d-8c3c-450998853276  https://scihub.copernicus.eu/dhus/odata/v1/Pro...   \n",
       "8daddb67-7ad8-4838-a460-dab8ab3a4dda  https://scihub.copernicus.eu/dhus/odata/v1/Pro...   \n",
       "2153894d-6887-45bf-a30c-4edeed334f5e  https://scihub.copernicus.eu/dhus/odata/v1/Pro...   \n",
       "5dca32b8-24de-4a33-8bd8-f1acf34af6ca  https://scihub.copernicus.eu/dhus/odata/v1/Pro...   \n",
       "\n",
       "                                                                                summary  \\\n",
       "386009ee-2a37-4b58-9f55-03f0d5cea946  Date: 2023-02-20T09:30:31.025Z, Instrument: MS...   \n",
       "e3eea048-79fd-4f9d-8c3c-450998853276  Date: 2023-02-20T09:30:31.025Z, Instrument: MS...   \n",
       "8daddb67-7ad8-4838-a460-dab8ab3a4dda  Date: 2023-02-20T09:30:31.025Z, Instrument: MS...   \n",
       "2153894d-6887-45bf-a30c-4edeed334f5e  Date: 2023-02-20T09:30:31.025Z, Instrument: MS...   \n",
       "5dca32b8-24de-4a33-8bd8-f1acf34af6ca  Date: 2023-02-20T09:30:31.025Z, Instrument: MS...   \n",
       "\n",
       "                                     ondemand      generationdate  \\\n",
       "386009ee-2a37-4b58-9f55-03f0d5cea946    false 2023-02-20 14:34:08   \n",
       "e3eea048-79fd-4f9d-8c3c-450998853276    false 2023-02-20 14:34:08   \n",
       "8daddb67-7ad8-4838-a460-dab8ab3a4dda    false 2023-02-20 14:34:08   \n",
       "2153894d-6887-45bf-a30c-4edeed334f5e    false 2023-02-20 14:34:08   \n",
       "5dca32b8-24de-4a33-8bd8-f1acf34af6ca    false 2023-02-20 14:34:08   \n",
       "\n",
       "                                               beginposition  \\\n",
       "386009ee-2a37-4b58-9f55-03f0d5cea946 2023-02-20 09:30:31.025   \n",
       "e3eea048-79fd-4f9d-8c3c-450998853276 2023-02-20 09:30:31.025   \n",
       "8daddb67-7ad8-4838-a460-dab8ab3a4dda 2023-02-20 09:30:31.025   \n",
       "2153894d-6887-45bf-a30c-4edeed334f5e 2023-02-20 09:30:31.025   \n",
       "5dca32b8-24de-4a33-8bd8-f1acf34af6ca 2023-02-20 09:30:31.025   \n",
       "\n",
       "                                                 endposition  \\\n",
       "386009ee-2a37-4b58-9f55-03f0d5cea946 2023-02-20 09:30:31.025   \n",
       "e3eea048-79fd-4f9d-8c3c-450998853276 2023-02-20 09:30:31.025   \n",
       "8daddb67-7ad8-4838-a460-dab8ab3a4dda 2023-02-20 09:30:31.025   \n",
       "2153894d-6887-45bf-a30c-4edeed334f5e 2023-02-20 09:30:31.025   \n",
       "5dca32b8-24de-4a33-8bd8-f1acf34af6ca 2023-02-20 09:30:31.025   \n",
       "\n",
       "                                               ingestiondate  ...  \\\n",
       "386009ee-2a37-4b58-9f55-03f0d5cea946 2023-02-20 16:09:35.637  ...   \n",
       "e3eea048-79fd-4f9d-8c3c-450998853276 2023-02-20 16:09:24.695  ...   \n",
       "8daddb67-7ad8-4838-a460-dab8ab3a4dda 2023-02-20 16:08:32.950  ...   \n",
       "2153894d-6887-45bf-a30c-4edeed334f5e 2023-02-20 16:06:24.627  ...   \n",
       "5dca32b8-24de-4a33-8bd8-f1acf34af6ca 2023-02-20 16:02:50.587  ...   \n",
       "\n",
       "                                                            s2datatakeid  \\\n",
       "386009ee-2a37-4b58-9f55-03f0d5cea946  GS2A_20230220T093031_040030_N05.09   \n",
       "e3eea048-79fd-4f9d-8c3c-450998853276  GS2A_20230220T093031_040030_N05.09   \n",
       "8daddb67-7ad8-4838-a460-dab8ab3a4dda  GS2A_20230220T093031_040030_N05.09   \n",
       "2153894d-6887-45bf-a30c-4edeed334f5e  GS2A_20230220T093031_040030_N05.09   \n",
       "5dca32b8-24de-4a33-8bd8-f1acf34af6ca  GS2A_20230220T093031_040030_N05.09   \n",
       "\n",
       "                                      producttype  platformidentifier  \\\n",
       "386009ee-2a37-4b58-9f55-03f0d5cea946      S2MSI2A           2015-028A   \n",
       "e3eea048-79fd-4f9d-8c3c-450998853276      S2MSI2A           2015-028A   \n",
       "8daddb67-7ad8-4838-a460-dab8ab3a4dda      S2MSI2A           2015-028A   \n",
       "2153894d-6887-45bf-a30c-4edeed334f5e      S2MSI2A           2015-028A   \n",
       "5dca32b8-24de-4a33-8bd8-f1acf34af6ca      S2MSI2A           2015-028A   \n",
       "\n",
       "                                      orbitdirection  \\\n",
       "386009ee-2a37-4b58-9f55-03f0d5cea946      DESCENDING   \n",
       "e3eea048-79fd-4f9d-8c3c-450998853276      DESCENDING   \n",
       "8daddb67-7ad8-4838-a460-dab8ab3a4dda      DESCENDING   \n",
       "2153894d-6887-45bf-a30c-4edeed334f5e      DESCENDING   \n",
       "5dca32b8-24de-4a33-8bd8-f1acf34af6ca      DESCENDING   \n",
       "\n",
       "                                      platformserialidentifier  \\\n",
       "386009ee-2a37-4b58-9f55-03f0d5cea946               Sentinel-2A   \n",
       "e3eea048-79fd-4f9d-8c3c-450998853276               Sentinel-2A   \n",
       "8daddb67-7ad8-4838-a460-dab8ab3a4dda               Sentinel-2A   \n",
       "2153894d-6887-45bf-a30c-4edeed334f5e               Sentinel-2A   \n",
       "5dca32b8-24de-4a33-8bd8-f1acf34af6ca               Sentinel-2A   \n",
       "\n",
       "                                      processinglevel  \\\n",
       "386009ee-2a37-4b58-9f55-03f0d5cea946         Level-2A   \n",
       "e3eea048-79fd-4f9d-8c3c-450998853276         Level-2A   \n",
       "8daddb67-7ad8-4838-a460-dab8ab3a4dda         Level-2A   \n",
       "2153894d-6887-45bf-a30c-4edeed334f5e         Level-2A   \n",
       "5dca32b8-24de-4a33-8bd8-f1acf34af6ca         Level-2A   \n",
       "\n",
       "                                                                    datastripidentifier  \\\n",
       "386009ee-2a37-4b58-9f55-03f0d5cea946  S2A_OPER_MSI_L2A_DS_2APS_20230220T143408_S2023...   \n",
       "e3eea048-79fd-4f9d-8c3c-450998853276  S2A_OPER_MSI_L2A_DS_2APS_20230220T143408_S2023...   \n",
       "8daddb67-7ad8-4838-a460-dab8ab3a4dda  S2A_OPER_MSI_L2A_DS_2APS_20230220T143408_S2023...   \n",
       "2153894d-6887-45bf-a30c-4edeed334f5e  S2A_OPER_MSI_L2A_DS_2APS_20230220T143408_S2023...   \n",
       "5dca32b8-24de-4a33-8bd8-f1acf34af6ca  S2A_OPER_MSI_L2A_DS_2APS_20230220T143408_S2023...   \n",
       "\n",
       "                                                                      granuleidentifier  \\\n",
       "386009ee-2a37-4b58-9f55-03f0d5cea946  S2A_OPER_MSI_L2A_TL_2APS_20230220T143408_A0400...   \n",
       "e3eea048-79fd-4f9d-8c3c-450998853276  S2A_OPER_MSI_L2A_TL_2APS_20230220T143408_A0400...   \n",
       "8daddb67-7ad8-4838-a460-dab8ab3a4dda  S2A_OPER_MSI_L2A_TL_2APS_20230220T143408_A0400...   \n",
       "2153894d-6887-45bf-a30c-4edeed334f5e  S2A_OPER_MSI_L2A_TL_2APS_20230220T143408_A0400...   \n",
       "5dca32b8-24de-4a33-8bd8-f1acf34af6ca  S2A_OPER_MSI_L2A_TL_2APS_20230220T143408_A0400...   \n",
       "\n",
       "                                                                             identifier  \\\n",
       "386009ee-2a37-4b58-9f55-03f0d5cea946  S2A_MSIL2A_20230220T093031_N0509_R136_T32NNL_2...   \n",
       "e3eea048-79fd-4f9d-8c3c-450998853276  S2A_MSIL2A_20230220T093031_N0509_R136_T32NNK_2...   \n",
       "8daddb67-7ad8-4838-a460-dab8ab3a4dda  S2A_MSIL2A_20230220T093031_N0509_R136_T32NPL_2...   \n",
       "2153894d-6887-45bf-a30c-4edeed334f5e  S2A_MSIL2A_20230220T093031_N0509_R136_T32NQL_2...   \n",
       "5dca32b8-24de-4a33-8bd8-f1acf34af6ca  S2A_MSIL2A_20230220T093031_N0509_R136_T32NRL_2...   \n",
       "\n",
       "                                                                      uuid  \n",
       "386009ee-2a37-4b58-9f55-03f0d5cea946  386009ee-2a37-4b58-9f55-03f0d5cea946  \n",
       "e3eea048-79fd-4f9d-8c3c-450998853276  e3eea048-79fd-4f9d-8c3c-450998853276  \n",
       "8daddb67-7ad8-4838-a460-dab8ab3a4dda  8daddb67-7ad8-4838-a460-dab8ab3a4dda  \n",
       "2153894d-6887-45bf-a30c-4edeed334f5e  2153894d-6887-45bf-a30c-4edeed334f5e  \n",
       "5dca32b8-24de-4a33-8bd8-f1acf34af6ca  5dca32b8-24de-4a33-8bd8-f1acf34af6ca  \n",
       "\n",
       "[5 rows x 42 columns]"
      ]
     },
     "execution_count": 22,
     "metadata": {},
     "output_type": "execute_result"
    }
   ],
   "source": [
    "images_df.head()"
   ]
  },
  {
   "cell_type": "code",
   "execution_count": 43,
   "metadata": {},
   "outputs": [
    {
     "data": {
      "text/plain": [
       "'818c53ea-c39d-44ce-8bae-adf27769576c'"
      ]
     },
     "execution_count": 43,
     "metadata": {},
     "output_type": "execute_result"
    }
   ],
   "source": [
    "# Randomaly select a uuid.\n",
    "uuids = images_df[\"uuid\"].sample().iloc[0]\n",
    "uuids"
   ]
  },
  {
   "cell_type": "code",
   "execution_count": 44,
   "metadata": {},
   "outputs": [
    {
     "data": {
      "application/json": {
       "ascii": false,
       "bar_format": null,
       "colour": null,
       "elapsed": 0.007322072982788086,
       "initial": 0,
       "n": 0,
       "ncols": null,
       "nrows": null,
       "postfix": null,
       "prefix": "Downloading S2B_MSIL2A_20230106T093259_N0509_R136_T32NQL_20230106T122128.zip",
       "rate": null,
       "total": 1162740424,
       "unit": "B",
       "unit_divisor": 1000,
       "unit_scale": true
      },
      "application/vnd.jupyter.widget-view+json": {
       "model_id": "94d3e5e7d74d4a698bd0a564d35e6ecd",
       "version_major": 2,
       "version_minor": 0
      },
      "text/plain": [
       "Downloading S2B_MSIL2A_20230106T093259_N0509_R136_T32NQL_20230106T122128.zip:   0%|          | 0.00/1.16G [00:…"
      ]
     },
     "metadata": {},
     "output_type": "display_data"
    },
    {
     "data": {
      "application/json": {
       "ascii": false,
       "bar_format": null,
       "colour": null,
       "elapsed": 0.010174989700317383,
       "initial": 0,
       "n": 0,
       "ncols": null,
       "nrows": null,
       "postfix": null,
       "prefix": "MD5 checksumming",
       "rate": null,
       "total": 1162740424,
       "unit": "B",
       "unit_divisor": 1000,
       "unit_scale": true
      },
      "application/vnd.jupyter.widget-view+json": {
       "model_id": "8a332ec45a69498d8344d074945f15a7",
       "version_major": 2,
       "version_minor": 0
      },
      "text/plain": [
       "MD5 checksumming:   0%|          | 0.00/1.16G [00:00<?, ?B/s]"
      ]
     },
     "metadata": {},
     "output_type": "display_data"
    },
    {
     "data": {
      "text/plain": [
       "{'id': '818c53ea-c39d-44ce-8bae-adf27769576c',\n",
       " 'title': 'S2B_MSIL2A_20230106T093259_N0509_R136_T32NQL_20230106T122128',\n",
       " 'size': 1162740424,\n",
       " 'md5': 'f420e417fae5a87ef685627212a7b3b2',\n",
       " 'date': datetime.datetime(2023, 1, 6, 9, 32, 59, 24000),\n",
       " 'footprint': 'POLYGON((10.80472775247355 5.425531020312141,11.795064553781264 5.42176328831644,11.790920736919428 4.429629774710796,10.80204968546757 4.432705100697929,10.80472775247355 5.425531020312141))',\n",
       " 'url': \"https://scihub.copernicus.eu/dhus/odata/v1/Products('818c53ea-c39d-44ce-8bae-adf27769576c')/$value\",\n",
       " 'Online': True,\n",
       " 'Creation Date': datetime.datetime(2023, 1, 6, 15, 5, 4, 431000),\n",
       " 'Ingestion Date': datetime.datetime(2023, 1, 6, 15, 4, 38, 318000),\n",
       " 'quicklook_url': \"https://scihub.copernicus.eu/dhus/odata/v1/Products('818c53ea-c39d-44ce-8bae-adf27769576c')/Products('Quicklook')/$value\",\n",
       " 'path': '../data/S2B_MSIL2A_20230106T093259_N0509_R136_T32NQL_20230106T122128.zip',\n",
       " 'downloaded_bytes': 1162740424}"
      ]
     },
     "execution_count": 44,
     "metadata": {},
     "output_type": "execute_result"
    }
   ],
   "source": [
    "details = api.download(uuids, directory_path=data)\n",
    "details"
   ]
  },
  {
   "cell_type": "code",
   "execution_count": 45,
   "metadata": {},
   "outputs": [
    {
     "name": "stdout",
     "output_type": "stream",
     "text": [
      "Extracting and deleting zipfile.\n"
     ]
    }
   ],
   "source": [
    "# Extract the zip file and delete it.\n",
    "if Path(details[\"path\"]).exists():\n",
    "    with zipfile.ZipFile(details[\"path\"], 'r') as zip_ref:\n",
    "        print(\"Extracting and deleting zipfile.\")\n",
    "        zip_ref.extractall(data)\n",
    "\n",
    "    Path(details[\"path\"]).unlink(missing_ok=True)\n",
    "else:\n",
    "    print(\"Zip file does not exist.\")"
   ]
  },
  {
   "cell_type": "code",
   "execution_count": 3,
   "metadata": {},
   "outputs": [],
   "source": [
    "## Still working on it.\n",
    "def get_band(image_folder, band, resolution=10):\n",
    "\n",
    "    # subfolder = [f for f in os.listdir(image_folder + \"/GRANULE\") if f[0]  == \"L\"][0]\n",
    "    sub_folder = [f for f in (image_folder / \"GRANULE\").iterdir() if f.name.startswith(\"L\")][0]\n",
    "\n",
    "    # image_folder_path  = image_folder / \"GRANULE\" / subfolder / \"IMG_DATA\" / f\"R{resolution}m\"\n",
    "    image_folder  = sub_folder / \"IMG_DATA\" / f\"R{10}m\"\n",
    "\n",
    "    # image_files = [im for im in os.listdir(image_folder_path) if im[-4:] == \".jp2\"]\n",
    "    image_files = [im for im in image_folder.iterdir() if im.suffix == \".jp2\"]\n",
    "    selected_file = [im for im in image_files if im.name.split(\"_\")[2] == band][0]\n",
    "    \n",
    "    with rasterio.open(selected_file) as file:\n",
    "        img = file.read(1)\n",
    "            \n",
    "    return img"
   ]
  },
  {
   "cell_type": "code",
   "execution_count": 4,
   "metadata": {},
   "outputs": [
    {
     "data": {
      "text/plain": [
       "PosixPath('../data/S2B_MSIL2A_20230106T093259_N0509_R136_T32NQL_20230106T122128.SAFE/GRANULE/L2A_T32NQL_A030478_20230106T094402')"
      ]
     },
     "execution_count": 4,
     "metadata": {},
     "output_type": "execute_result"
    }
   ],
   "source": [
    "data_1_folder = data / \"S2B_MSIL2A_20230106T093259_N0509_R136_T32NQL_20230106T122128.SAFE\"\n",
    "\n",
    "sub_folder = [f for f in (data_1_folder / \"GRANULE\").iterdir() if f.name.startswith(\"L\")][0]\n",
    "sub_folder"
   ]
  },
  {
   "cell_type": "code",
   "execution_count": 5,
   "metadata": {},
   "outputs": [
    {
     "data": {
      "text/plain": [
       "PosixPath('../data/S2B_MSIL2A_20230106T093259_N0509_R136_T32NQL_20230106T122128.SAFE/GRANULE/L2A_T32NQL_A030478_20230106T094402/IMG_DATA/R10m')"
      ]
     },
     "execution_count": 5,
     "metadata": {},
     "output_type": "execute_result"
    }
   ],
   "source": [
    "image_folder  = sub_folder / \"IMG_DATA\" / f\"R{10}m\"\n",
    "image_folder"
   ]
  },
  {
   "cell_type": "code",
   "execution_count": 6,
   "metadata": {},
   "outputs": [
    {
     "name": "stdout",
     "output_type": "stream",
     "text": [
      "T32NQL_20230106T093259_AOT_10m.jp2\n",
      "T32NQL_20230106T093259_WVP_10m.jp2\n",
      "T32NQL_20230106T093259_B03_10m.jp2\n",
      "T32NQL_20230106T093259_B04_10m.jp2\n",
      "T32NQL_20230106T093259_TCI_10m.jp2\n",
      "T32NQL_20230106T093259_B02_10m.jp2\n",
      "T32NQL_20230106T093259_B08_10m.jp2\n"
     ]
    }
   ],
   "source": [
    "# check the image path's in image_folder_path of R10m\n",
    "for path in image_folder.iterdir():\n",
    "    print(path.name)"
   ]
  },
  {
   "attachments": {},
   "cell_type": "markdown",
   "metadata": {},
   "source": [
    "## Understand which spectral band to use and manage quantization.\n",
    "\n",
    "Quantization is the process of converting continuous data (such as radiance values) into discrete values (such as digital numbers) that can be stored and processed by a computer. This is necessary because computers can't store or process continuous data, so it needs to be discretized into manageable chunks."
   ]
  },
  {
   "cell_type": "code",
   "execution_count": 7,
   "metadata": {},
   "outputs": [
    {
     "data": {
      "text/plain": [
       "{'B02': array([[1384, 1394, 1356, ..., 1170, 1187, 1244],\n",
       "        [1334, 1344, 1322, ..., 1188, 1222, 1229],\n",
       "        [1308, 1280, 1254, ..., 1176, 1168, 1216],\n",
       "        ...,\n",
       "        [1233, 1229, 1247, ..., 1173, 1205, 1220],\n",
       "        [1240, 1298, 1288, ..., 1210, 1176, 1190],\n",
       "        [1274, 1292, 1267, ..., 1171, 1171, 1168]], dtype=uint16),\n",
       " 'B03': array([[1478, 1514, 1454, ..., 1312, 1403, 1424],\n",
       "        [1422, 1455, 1450, ..., 1273, 1380, 1461],\n",
       "        [1417, 1415, 1418, ..., 1327, 1326, 1416],\n",
       "        ...,\n",
       "        [1480, 1456, 1452, ..., 1368, 1416, 1474],\n",
       "        [1414, 1435, 1472, ..., 1356, 1385, 1431],\n",
       "        [1452, 1434, 1430, ..., 1372, 1370, 1420]], dtype=uint16),\n",
       " 'B04': array([[1616, 1684, 1588, ..., 1302, 1304, 1356],\n",
       "        [1614, 1618, 1595, ..., 1304, 1280, 1380],\n",
       "        [1592, 1476, 1447, ..., 1311, 1266, 1363],\n",
       "        ...,\n",
       "        [1321, 1330, 1354, ..., 1301, 1356, 1326],\n",
       "        [1333, 1332, 1324, ..., 1290, 1293, 1342],\n",
       "        [1352, 1374, 1372, ..., 1309, 1347, 1375]], dtype=uint16),\n",
       " 'B08': array([[1995, 2141, 2300, ..., 3232, 3535, 3756],\n",
       "        [2044, 2180, 2291, ..., 2991, 3512, 3798],\n",
       "        [2449, 2704, 2848, ..., 3075, 3271, 3460],\n",
       "        ...,\n",
       "        [3912, 3812, 3854, ..., 3011, 3505, 4012],\n",
       "        [3454, 3608, 3942, ..., 2905, 3377, 3829],\n",
       "        [3556, 3403, 3460, ..., 2906, 2921, 3106]], dtype=uint16)}"
      ]
     },
     "execution_count": 7,
     "metadata": {},
     "output_type": "execute_result"
    }
   ],
   "source": [
    "band_dict = {}\n",
    "\n",
    "for band in [\"B02\", \"B03\", \"B04\", \"B08\"]:\n",
    "    band_dict[band] = get_band(data_1_folder, band, 10)\n",
    "\n",
    "band_dict"
   ]
  },
  {
   "cell_type": "code",
   "execution_count": 8,
   "metadata": {},
   "outputs": [
    {
     "ename": "",
     "evalue": "",
     "output_type": "error",
     "traceback": [
      "\u001b[1;31mCanceled future for execute_request message before replies were done"
     ]
    },
    {
     "ename": "",
     "evalue": "",
     "output_type": "error",
     "traceback": [
      "\u001b[1;31mThe Kernel crashed while executing code in the the current cell or a previous cell. Please review the code in the cell(s) to identify a possible cause of the failure. Click <a href='https://aka.ms/vscodeJupyterKernelCrash'>here</a> for more info. View Jupyter <a href='command:jupyter.viewOutput'>log</a> for further details."
     ]
    }
   ],
   "source": [
    "# Recreating an RGB image \n",
    "img = cv2.merge((band_dict[\"B04\"], band_dict[\"B03\"], band_dict[\"B02\"]))\n",
    "plt.imshow(img)"
   ]
  }
 ],
 "metadata": {
  "kernelspec": {
   "display_name": "cameroon-land-cover-mapping-Zdaaye8N-py3.10",
   "language": "python",
   "name": "python3"
  },
  "language_info": {
   "codemirror_mode": {
    "name": "ipython",
    "version": 3
   },
   "file_extension": ".py",
   "mimetype": "text/x-python",
   "name": "python",
   "nbconvert_exporter": "python",
   "pygments_lexer": "ipython3",
   "version": "3.10.4"
  },
  "orig_nbformat": 4
 },
 "nbformat": 4,
 "nbformat_minor": 2
}
